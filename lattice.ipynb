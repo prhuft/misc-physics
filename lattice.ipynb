{
 "cells": [
  {
   "cell_type": "code",
   "execution_count": 21,
   "metadata": {},
   "outputs": [],
   "source": [
    "import matplotlib.pyplot as plt\n",
    "from numpy import *"
   ]
  },
  {
   "cell_type": "code",
   "execution_count": 73,
   "metadata": {},
   "outputs": [],
   "source": [
    "class Lattice:\n",
    "    \n",
    "    ux = array([1,0])\n",
    "    uy = array([0,1])\n",
    "    \n",
    "    def __init__(self,basis,gridx):\n",
    "        \n",
    "        self.basis = basis\n",
    "        self.v1 = self.basis[0]\n",
    "        self.v2 = self.basis[1]\n",
    "        self.gridx = gridx\n",
    "        x0 = 0\n",
    "        y0 = 0\n",
    "        dx0 = dot(v1,ux)\n",
    "        self.dx = dot(v2,ux)\n",
    "        self.dy = dot(v1,uy)\n",
    "        self.gridy = int(gridx*dx/dy)\n",
    "    \n",
    "    def plot(self, xlabel='x', ylabel='y', title='lattice',\n",
    "             drawunit=False):\n",
    "        \"\"\"plot the lattice\"\"\"\n",
    "        #TODO: add functionality to draw the unit cells\n",
    "        xpts = array([x0 + j*dx for j in range(gridN)])\n",
    "\n",
    "        fig, ax = plt.subplots()\n",
    "        ax.set_aspect('equal')\n",
    "        ax.set_title(title)\n",
    "        ax.set_xlabel(xlabel)\n",
    "        ax.set_ylabel(ylabel)\n",
    "        ax.set_xlim((-dx, (gridx+1)*dx))\n",
    "        ax.set_ylim((-dy, gridy*dy))\n",
    "        for i in range(gridy):\n",
    "            x = xpts + dx0*(i % 2)\n",
    "            y = array([y0]*gridx)+dy*i\n",
    "            ax.scatter(x, y, c='k')\n",
    "            \n",
    "    def rotate(self):\n",
    "        \"\"\"rotate the grid by theta via a transformation to the basis vectors\"\"\"\n",
    "        # TODO: add code to do this"
   ]
  },
  {
   "cell_type": "markdown",
   "metadata": {},
   "source": [
    "## example 1"
   ]
  },
  {
   "cell_type": "code",
   "execution_count": 74,
   "metadata": {},
   "outputs": [],
   "source": [
    "## create lattice object\n",
    "\n",
    "mybasis = [array([sqrt(3)/2, 1/2]), array([1,0])] # basis vectors\n",
    "wx = 4 # the width of the lattice in whatever units the basis vectors are in\n",
    "\n",
    "myLattice = Lattice(mybasis, wx)"
   ]
  },
  {
   "cell_type": "code",
   "execution_count": 75,
   "metadata": {},
   "outputs": [
    {
     "data": {
      "image/png": "[encoded data removed]",
      "text/plain": [
       "<Figure size 432x288 with 1 Axes>"
      ]
     },
     "metadata": {
      "needs_background": "light"
     },
     "output_type": "display_data"
    }
   ],
   "source": [
    "## now that you have a lattice object, plot it\n",
    "myLattice.plot(title='My first lattice')"
   ]
  },
  {
   "cell_type": "code",
   "execution_count": 76,
   "metadata": {},
   "outputs": [
    {
     "data": {
      "text/plain": [
       "[array([0.8660254, 0.5      ]), array([1, 0])]"
      ]
     },
     "execution_count": 76,
     "metadata": {},
     "output_type": "execute_result"
    }
   ],
   "source": [
    "## wait, what was the basis for this?\n",
    "myLattice.basis"
   ]
  }
 ],
 "metadata": {
  "kernelspec": {
   "display_name": "Python 3",
   "language": "python",
   "name": "python3"
  },
  "language_info": {
   "codemirror_mode": {
    "name": "ipython",
    "version": 3
   },
   "file_extension": ".py",
   "mimetype": "text/x-python",
   "name": "python",
   "nbconvert_exporter": "python",
   "pygments_lexer": "ipython3",
   "version": "3.9.0"
  }
 },
 "nbformat": 4,
 "nbformat_minor": 2
}
