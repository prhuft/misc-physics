{
 "cells": [
  {
   "cell_type": "code",
   "execution_count": 21,
   "metadata": {},
   "outputs": [],
   "source": [
    "import matplotlib.pyplot as plt\n",
    "from numpy import *"
   ]
  },
  {
   "cell_type": "code",
   "execution_count": 23,
   "metadata": {},
   "outputs": [
    {
     "data": {
      "image/png": "[encoded data removed]",
      "text/plain": [
       "<Figure size 432x432 with 1 Axes>"
      ]
     },
     "metadata": {
      "needs_background": "light"
     },
     "output_type": "display_data"
    }
   ],
   "source": [
    "basis = [[sqrt(3)/2, 1/2], [0,1]] # list of orthonormal {x,y} basis vectors\n",
    "gridN = 20 # the grid will be gridN x gridN\n",
    "xpts = []\n",
    "ypts = []\n",
    "\n",
    "dx = basis[0][0] + basis[0][1]\n",
    "dy = basis[1][0] + basis[1][1]\n",
    "\n",
    "for i in range(gridN):\n",
    "    xpts.append(dx*i)\n",
    "    ypts.append(dy*i)\n",
    "    \n",
    "fig, ax = plt.subplots(figsize=(6,6))\n",
    "# ax.set_aspect('equal')\n",
    "    \n",
    "for i in range(gridN):\n",
    "    ax.scatter([ypts[i]]*gridN, xpts, c='k')"
   ]
  },
  {
   "cell_type": "code",
   "execution_count": null,
   "metadata": {},
   "outputs": [],
   "source": []
  }
 ],
 "metadata": {
  "kernelspec": {
   "display_name": "Python 3",
   "language": "python",
   "name": "python3"
  },
  "language_info": {
   "codemirror_mode": {
    "name": "ipython",
    "version": 3
   },
   "file_extension": ".py",
   "mimetype": "text/x-python",
   "name": "python",
   "nbconvert_exporter": "python",
   "pygments_lexer": "ipython3",
   "version": "3.7.3"
  }
 },
 "nbformat": 4,
 "nbformat_minor": 2
}
