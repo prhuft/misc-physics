{
 "cells": [
  {
   "cell_type": "code",
   "execution_count": 13,
   "id": "martial-cleveland",
   "metadata": {},
   "outputs": [],
   "source": [
    "from matplotlib import pyplot as plt\n",
    "from numpy import *\n",
    "from numpy import random"
   ]
  },
  {
   "cell_type": "code",
   "execution_count": 11,
   "id": "pretty-stable",
   "metadata": {},
   "outputs": [],
   "source": [
    "class Lattice:\n",
    "    \n",
    "    ux = array([1,0])\n",
    "    uy = array([0,1])\n",
    "    \n",
    "    def __init__(self,gridx,basis=None):\n",
    "        \"\"\"\n",
    "        gridx: the lattice width\n",
    "        basis: a list of two-vector basis vectors\n",
    "        \"\"\"\n",
    "        \n",
    "        self.basis = basis\n",
    "        self.v1 = self.basis[0]\n",
    "        self.v2 = self.basis[1]\n",
    "        self.gridx = gridx\n",
    "        x0 = 0\n",
    "        y0 = 0\n",
    "        dx0 = dot(v1,ux)\n",
    "        self.dx = dot(v2,ux)\n",
    "        self.dy = dot(v1,uy)\n",
    "        self.gridy = int(gridx*dx/dy)\n",
    "    \n",
    "    def plot(self, xlabel='x', ylabel='y', title='lattice',\n",
    "             drawunit=False):\n",
    "        \"\"\"plot the lattice\"\"\"\n",
    "        #TODO: add functionality to draw the unit cells\n",
    "        xpts = array([x0 + j*dx for j in range(gridN)])\n",
    "\n",
    "        fig, ax = plt.subplots()\n",
    "        ax.set_aspect('equal')\n",
    "        ax.set_title(title)\n",
    "        ax.set_xlabel(xlabel)\n",
    "        ax.set_ylabel(ylabel)\n",
    "        ax.set_xlim((-dx, (gridx+1)*dx))\n",
    "        ax.set_ylim((-dy, gridy*dy))\n",
    "        for i in range(gridy):\n",
    "            x = xpts + dx0*(i % 2)\n",
    "            y = array([y0]*gridx)+dy*i\n",
    "            ax.scatter(x, y, c='k')\n",
    "            \n",
    "    def rotate(self):\n",
    "        \"\"\"rotate the grid by theta via a transformation to the basis vectors\"\"\"\n",
    "        # TODO: add code to do this\n",
    "        \n",
    "def get_grid(dx,dy,xnum,ynum):\n",
    "    \"\"\"\n",
    "    Retunr xpts,ypts denoting centers of pts on a regular grid\n",
    "    Args:\n",
    "        dx,dy: center-center spacing in x,y directions\n",
    "        xnum, ynum: number of columns, rows\n",
    "    Return:\n",
    "        xpts,ypts: lists of x coords,y coords for grid pts\n",
    "    \"\"\"\n",
    "    xpts = []\n",
    "    ypts = []\n",
    "    for i in range(xnum):\n",
    "        for j in range(ynum):\n",
    "            ypts.append((1+i)*dy - dy*(1+ynum)/2)\n",
    "            xpts.append((1+j)*dx - dx*(1+xnum)/2)\n",
    "    return xpts, ypts\n",
    "\n",
    "def figax(roi=None, xlabel=None, ylabel=None, aspect='equal', figkwargs={}):\n",
    "    \"\"\"\n",
    "    return fig, ax. all params optional\n",
    "    Args:\n",
    "        roi: zoom to -roi, roi. None by default\n",
    "        xlabel: None by default\n",
    "        ylabel: None by default\n",
    "        aspect: equal by default\n",
    "    \"\"\"\n",
    "    fig,ax = plt.subplots(**figkwargs)\n",
    "    if roi is not None:\n",
    "        ax.set_xlim(-roi,roi)\n",
    "        ax.set_ylim(-roi,roi)\n",
    "    if aspect is not None:\n",
    "        ax.set_aspect(aspect)\n",
    "    if xlabel is not None:\n",
    "        ax.set_xlabel(xlabel)\n",
    "    if ylabel is not None:\n",
    "        ax.set_ylabel(ylabel)\n",
    "    return fig, ax"
   ]
  },
  {
   "cell_type": "code",
   "execution_count": 24,
   "id": "neural-thickness",
   "metadata": {},
   "outputs": [],
   "source": [
    "ynum = 2\n",
    "xnum = 10\n",
    "dx = dy = 200 # [nm]\n",
    "\n",
    "xpts, ypts = get_grid(dx, dy, ynum, xnum)\n",
    "# add randomness\n",
    "x_std = y_std = 0 #[nm] \n",
    "xpts = array([x + nx for x,nx in zip(xpts,random.normal(0,x_std,xnum*ynum))])\n",
    "ypts = array([y + ny for y,ny in zip(ypts,random.normal(0,y_std,xnum*ynum))])"
   ]
  },
  {
   "cell_type": "code",
   "execution_count": 25,
   "id": "distributed-journalism",
   "metadata": {
    "scrolled": true
   },
   "outputs": [
    {
     "data": {
      "text/plain": [
       "<matplotlib.collections.PathCollection at 0x25a7cd09790>"
      ]
     },
     "execution_count": 25,
     "metadata": {},
     "output_type": "execute_result"
    },
    {
     "data": {
      "image/png": "[encoded data removed]",
      "text/plain": [
       "<Figure size 432x288 with 1 Axes>"
      ]
     },
     "metadata": {
      "needs_background": "light"
     },
     "output_type": "display_data"
    }
   ],
   "source": [
    "fig, ax = figax()\n",
    "ax.scatter(xpts,ypts)"
   ]
  },
  {
   "cell_type": "code",
   "execution_count": 29,
   "id": "northern-kennedy",
   "metadata": {},
   "outputs": [
    {
     "ename": "ValueError",
     "evalue": "operands could not be broadcast together with shapes (9,) (11,) ",
     "output_type": "error",
     "traceback": [
      "\u001b[1;31m---------------------------------------------------------------------------\u001b[0m",
      "\u001b[1;31mValueError\u001b[0m                                Traceback (most recent call last)",
      "\u001b[1;32m<ipython-input-29-537e2a4c0f12>\u001b[0m in \u001b[0;36m<module>\u001b[1;34m\u001b[0m\n\u001b[1;32m----> 1\u001b[1;33m \u001b[0mypts\u001b[0m\u001b[1;33m[\u001b[0m\u001b[1;36m1\u001b[0m\u001b[1;33m:\u001b[0m\u001b[0mxnum\u001b[0m\u001b[1;33m]\u001b[0m \u001b[1;33m-\u001b[0m \u001b[0mypts\u001b[0m\u001b[1;33m[\u001b[0m\u001b[0mxnum\u001b[0m\u001b[1;33m-\u001b[0m\u001b[1;36m1\u001b[0m\u001b[1;33m:\u001b[0m\u001b[1;33m]\u001b[0m\u001b[1;33m\u001b[0m\u001b[1;33m\u001b[0m\u001b[0m\n\u001b[0m",
      "\u001b[1;31mValueError\u001b[0m: operands could not be broadcast together with shapes (9,) (11,) "
     ]
    }
   ],
   "source": []
  },
  {
   "cell_type": "code",
   "execution_count": 40,
   "id": "american-south",
   "metadata": {},
   "outputs": [],
   "source": [
    "# compute Bragg diffraction over 1D bilayer\n",
    "\n",
    "klist = [2*pi/l for l in linspace(400,700,20)] # wave number\n",
    "incidence_arr = linspace(-pi/3,pi/3,20)\n",
    "z0 = 0 #arbitrary; kz0 just adds an overall phase\n",
    "zf = 0 #1000000 # viewing plane [nm]\n",
    "refl_components = empty((len(klist),xnum)) # space-varying field for each wave number\n",
    "for j,k in enumerate(klist):\n",
    "        \n",
    "    field_k = zeros(xnum)\n",
    "        \n",
    "    for theta in incidence_arr:\n",
    "        # assume interference from nearest neighbor column or same column based on angle of incidence\n",
    "        \n",
    "        if theta < -pi/2:\n",
    "            col = -1 \n",
    "        elif theta < pi/2:\n",
    "            col = 0\n",
    "        else:\n",
    "            col = 1\n",
    "                        \n",
    "        # TODO generalize to accomadate > bilayer grids\n",
    "        for i in range(int(ynum/2+0.5)): # iterate\n",
    "            try:\n",
    "                d = ypts[1:xnum][i] - ypts[xnum+col:][i]\n",
    "                field_k[i] += exp(-i*k*zf)*array([cos(k*z0) + cos(k*z0+2*d*cos(theta))])\n",
    "            except IndexError:\n",
    "                pass\n",
    "    refl_components[j] = field_k"
   ]
  },
  {
   "cell_type": "code",
   "execution_count": 43,
   "id": "affiliated-flashing",
   "metadata": {},
   "outputs": [
    {
     "data": {
      "text/plain": [
       "10"
      ]
     },
     "execution_count": 43,
     "metadata": {},
     "output_type": "execute_result"
    }
   ],
   "source": [
    "len(refl_components[0])"
   ]
  },
  {
   "cell_type": "code",
   "execution_count": 49,
   "id": "ideal-surrey",
   "metadata": {},
   "outputs": [
    {
     "data": {
      "image/png": "[encoded data removed]",
      "text/plain": [
       "<Figure size 432x288 with 1 Axes>"
      ]
     },
     "metadata": {
      "needs_background": "light"
     },
     "output_type": "display_data"
    }
   ],
   "source": [
    "fig,ax = figax()\n",
    "for j,k in enumerate(klist):\n",
    "    ax.plot([i*dx for i in range(xnum)],abs(refl_components[j])**2,label=f\"{2*pi/k}nm\")"
   ]
  },
  {
   "cell_type": "code",
   "execution_count": 31,
   "id": "consolidated-action",
   "metadata": {},
   "outputs": [
    {
     "ename": "IndexError",
     "evalue": "list index out of range",
     "output_type": "error",
     "traceback": [
      "\u001b[1;31m---------------------------------------------------------------------------\u001b[0m",
      "\u001b[1;31mIndexError\u001b[0m                                Traceback (most recent call last)",
      "\u001b[1;32m<ipython-input-31-01961e54c50f>\u001b[0m in \u001b[0;36m<module>\u001b[1;34m\u001b[0m\n\u001b[1;32m----> 1\u001b[1;33m \u001b[0mxlist\u001b[0m\u001b[1;33m[\u001b[0m\u001b[1;36m2\u001b[0m\u001b[1;33m]\u001b[0m\u001b[1;33m\u001b[0m\u001b[1;33m\u001b[0m\u001b[0m\n\u001b[0m",
      "\u001b[1;31mIndexError\u001b[0m: list index out of range"
     ]
    }
   ],
   "source": [
    "xlist[2]"
   ]
  },
  {
   "cell_type": "code",
   "execution_count": null,
   "id": "suitable-impact",
   "metadata": {},
   "outputs": [],
   "source": []
  }
 ],
 "metadata": {
  "kernelspec": {
   "display_name": "Python 3",
   "language": "python",
   "name": "python3"
  },
  "language_info": {
   "codemirror_mode": {
    "name": "ipython",
    "version": 3
   },
   "file_extension": ".py",
   "mimetype": "text/x-python",
   "name": "python",
   "nbconvert_exporter": "python",
   "pygments_lexer": "ipython3",
   "version": "3.9.0"
  }
 },
 "nbformat": 4,
 "nbformat_minor": 5
}
