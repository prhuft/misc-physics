{
 "cells": [
  {
   "cell_type": "code",
   "execution_count": 21,
   "metadata": {},
   "outputs": [],
   "source": [
    "import matplotlib.pyplot as plt\n",
    "from numpy import *"
   ]
  },
  {
   "cell_type": "code",
   "execution_count": 63,
   "metadata": {},
   "outputs": [
    {
     "data": {
      "image/png": "[encoded data removed]",
      "text/plain": [
       "<Figure size 432x288 with 1 Axes>"
      ]
     },
     "metadata": {
      "needs_background": "light"
     },
     "output_type": "display_data"
    }
   ],
   "source": [
    "# basis vectors\n",
    "v1 = array([sqrt(3)/2, 1/2])\n",
    "v2 = array([1,0]) \n",
    "\n",
    "ux = array([1,0])\n",
    "uy = array([0,1])\n",
    "\n",
    "x0 = 0\n",
    "y0 = 0\n",
    "dx = dot(v2,ux)\n",
    "dx0 = dot(v1,ux)\n",
    "dy = dot(v1,uy)\n",
    "\n",
    "gridx = 4 # the grid will be gridN x gridN\n",
    "gridy = int(gridx*dx/dy)\n",
    "\n",
    "xpts = array([x0 + j*dx for j in range(gridN)])\n",
    "\n",
    "fig, ax = plt.subplots()\n",
    "ax.set_aspect('equal')\n",
    "ax.set_xlim((-dx, (gridx+1)*dx))\n",
    "ax.set_ylim((-dy, gridy*dy))\n",
    "for i in range(gridy):\n",
    "    x = xpts + dx0*(i % 2)\n",
    "    y = array([y0]*gridx)+dy*i\n",
    "    ax.scatter(x, y, c='k')"
   ]
  },
  {
   "cell_type": "code",
   "execution_count": null,
   "metadata": {},
   "outputs": [],
   "source": []
  }
 ],
 "metadata": {
  "kernelspec": {
   "display_name": "Python 3",
   "language": "python",
   "name": "python3"
  },
  "language_info": {
   "codemirror_mode": {
    "name": "ipython",
    "version": 3
   },
   "file_extension": ".py",
   "mimetype": "text/x-python",
   "name": "python",
   "nbconvert_exporter": "python",
   "pygments_lexer": "ipython3",
   "version": "3.7.3"
  }
 },
 "nbformat": 4,
 "nbformat_minor": 2
}
