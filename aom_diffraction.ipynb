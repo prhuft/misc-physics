{
 "cells": [
  {
   "cell_type": "code",
   "execution_count": null,
   "metadata": {},
   "outputs": [],
   "source": [
    "AOM Diffraction"
   ]
  },
  {
   "cell_type": "code",
   "execution_count": 1,
   "metadata": {},
   "outputs": [],
   "source": [
    "from numpy import *\n",
    "\n",
    "import matplotlib.pyplot as plt"
   ]
  },
  {
   "cell_type": "code",
   "execution_count": 26,
   "metadata": {},
   "outputs": [],
   "source": [
    "state = lambda x,th: array([x,th])\n",
    "m_gap = lambda d: array([[1,d],[0,1]])\n",
    "# could make m_aom(f,m) which gives mth order diffracted state out\n",
    "\n",
    "\n",
    "def int_out(x,w0,lmbda,Omega,f): \n",
    "    \"\"\"output intensity\n",
    "    \"\"\"\n",
    "    \n",
    "    I0 = 1\n",
    "    vs = 4540 #m/s\n",
    "    Lmbda = vs/Omega # acoustic wavelength\n",
    "    N = w0/Lmbda\n",
    "    k = 2*pi/(lmbda) # freespace wavenumber\n",
    "    \n",
    "    Iout = I0*sin(N*k*Lmbda*x/(2*f))**2/(sin(k*Lmbda*x/(2*f))**2)\n",
    "    \n",
    "    return Iout"
   ]
  },
  {
   "cell_type": "code",
   "execution_count": null,
   "metadata": {},
   "outputs": [],
   "source": [
    "xlist,ylist = \n",
    "        \n",
    "xpts = linspace(-s*wx,s*wx,100)\n",
    "zpts = linspace(-s*wy,s*wy,100)\n",
    "xx,zz = meshgrid(xpts,zpts)\n",
    "fpts = -self.U(xx,0,zz) # the fort intensity eval'd on the meshgrid\n",
    "plt.contourf(xpts/mu,zpts/mu,fpts)\n",
    "plt.scatter(xlist/mu,ylist/mu,color='red')\n",
    "plt.xlabel(\"x\")\n",
    "plt.ylabel(\"z\")\n",
    "#         plt.axes().set_aspect('equal')\n",
    "plt.show() "
   ]
  },
  {
   "cell_type": "code",
   "execution_count": 31,
   "metadata": {},
   "outputs": [
    {
     "data": {
      "image/png": "[encoded data removed]",
      "text/plain": [
       "<Figure size 432x288 with 1 Axes>"
      ]
     },
     "metadata": {
      "needs_background": "light"
     },
     "output_type": "display_data"
    }
   ],
   "source": [
    "w0 = 1e-3\n",
    "lmbda = 7.8e-7\n",
    "Omega = 1e8\n",
    "f = .05\n",
    "\n",
    "xmax = f*lmbda/(2*w0*)\n",
    "\n",
    "xpts = linspace(-xmax,xmax,1000)\n",
    "ypts = array([int_out(x,w0,lmbda,Omega,f) for x in xpts])\n",
    "\n",
    "plt.plot(xpts/w0,ypts)\n",
    "plt.show()"
   ]
  },
  {
   "cell_type": "code",
   "execution_count": null,
   "metadata": {},
   "outputs": [],
   "source": []
  }
 ],
 "metadata": {
  "kernelspec": {
   "display_name": "Python 3",
   "language": "python",
   "name": "python3"
  },
  "language_info": {
   "codemirror_mode": {
    "name": "ipython",
    "version": 3
   },
   "file_extension": ".py",
   "mimetype": "text/x-python",
   "name": "python",
   "nbconvert_exporter": "python",
   "pygments_lexer": "ipython3",
   "version": "3.7.3"
  }
 },
 "nbformat": 4,
 "nbformat_minor": 2
}
